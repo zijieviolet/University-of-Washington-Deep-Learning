{
 "cells": [
  {
   "cell_type": "markdown",
   "metadata": {},
   "source": [
    "# T81-558: Applications of Deep Neural Networks\n",
    "**Class Bibliography**\n",
    "* Instructor: [Jeff Heaton](https://sites.wustl.edu/jeffheaton/), School of Engineering and Applied Science, [Washington University in St. Louis](https://engineering.wustl.edu/Programs/Pages/default.aspx)\n",
    "* For more information visit the [class website](https://sites.wustl.edu/jeffheaton/t81-558/)."
   ]
  },
  {
   "cell_type": "markdown",
   "metadata": {},
   "source": [
    "These are some of the origional papers that this class is based on.  When possable, I provide a link to the PDF.  However the locations of some of these papers may changes and not all links may not work.  In these cases, I suggest Googling the paper's name.\n",
    "\n",
    "Abadi, M., Barham, P., Chen, J., Chen, Z., Davis, A., Dean, J., ... & Kudlur, M. (2016, November). [Tensorflow: a system for large-scale machine learning](https://www.usenix.org/system/files/conference/osdi16/osdi16-abadi.pdf). In *OSDI* (Vol. 16, pp. 265-283).\n",
    "\n",
    "Chollet, F. (2015). [Keras](https://github.com/keras-team).\n",
    "\n",
    "Glorot, X., & Bengio, Y. (2010, March). [Understanding the difficulty of training deep feedforward neural networks](http://proceedings.mlr.press/v9/glorot10a/glorot10a.pdf). In *Proceedings of the thirteenth international conference on artificial intelligence and statistics* (pp. 249-256).\n",
    "\n",
    "Glorot, X., Bordes, A., & Bengio, Y. (2011, June). [Deep sparse rectifier neural networks](http://proceedings.mlr.press/v15/glorot11a/glorot11a.pdf). In *Proceedings of the fourteenth international conference on artificial intelligence and statistics* (pp. 315-323).\n",
    "\n",
    "Goodfellow, I., Bengio, Y., Courville, A., & Bengio, Y. (2016). *[Deep learning](https://www.deeplearningbook.org/)* (Vol. 1). Cambridge: MIT press.\n",
    "\n",
    "Hinton, G. E., Osindero, S., & Teh, Y. W. (2006). [A fast learning algorithm for deep belief nets](https://www.cs.toronto.edu/~hinton/absps/fastnc.pdf). *Neural computation*, 18(7), 1527-1554.\n",
    "\n",
    "Hochreiter, S., & Schmidhuber, J. (1997). [Long short-term memory](http://citeseerx.ist.psu.edu/viewdoc/download?doi=10.1.1.676.4320&rep=rep1&type=pdf). *Neural computation*, 9(8), 1735-1780.\n",
    "\n",
    "Kingma, D. P., & Ba, J. (2014). [Adam: A method for stochastic optimization](https://arxiv.org/abs/1412.6980). *arXiv preprint* arXiv:1412.6980.\n",
    "\n",
    "LeCun, Y., Bengio, Y., & Hinton, G. (2015). [Deep learning](https://www.researchgate.net/publication/277411157_Deep_Learning). *nature*, 521(7553), 436.\n",
    "\n",
    "LeCun, Y., & Bengio, Y. (1995). [Convolutional networks for images, speech, and time series](https://www.researchgate.net/profile/Yann_Lecun/publication/2453996_Convolutional_Networks_for_Images_Speech_and_Time-Series/links/0deec519dfa2325502000000.pdf). *The handbook of brain theory and neural networks*, 3361(10), 1995.\n",
    "\n",
    "McCulloch, W., & Pitts, W. (1943, December 21). [A logical calculus of the ideas immanent in nervous activity](https://www.cs.cmu.edu/~./epxing/Class/10715/reading/McCulloch.and.Pitts.pdf). *Bulletin of Mathematical Biology*, 5 (4), 115-133.\n",
    "\n",
    "Nair, V., & Hinton, G. E. (2010). [Rectified linear units improve restricted boltzmann machines](https://www.cs.toronto.edu/~hinton/absps/reluICML.pdf). In *Proceedings of the 27th international conference on machine learning (ICML-10)* (pp. 807-814).\n",
    "\n",
    "Srivastava, N., Hinton, G., Krizhevsky, A., Sutskever, I., & Salakhutdinov, R. (2014). [Dropout: a simple way to prevent neural networks from overfitting](https://www.cs.toronto.edu/~hinton/absps/JMLRdropout.pdf). The Journal of Machine Learning Research, 15(1), 1929-1958.\n",
    "\n",
    "van der Maaten, L., & Hinton, G. (n.d.). [Visualizing high-dimensional data using t-SNE](http://www.jmlr.org/papers/volume9/vandermaaten08a/vandermaaten08a.pdf). *Journal of Machine Learning Research (JMLR)*, 9, 2579-2605.\n",
    "\n",
    "Werbos, P. J. (1988). [Generalization of backpropagation with application to a recurrent gas market model](https://www.researchgate.net/profile/Paul_Werbos/publication/223074905_Generalization_of_Backpropagation_with_Application_to_a_Recurrent_Gas_Market_Model/links/5a808b370f7e9be137c8fbb1/Generalization-of-Backpropagation-with-Application-to-a-Recurrent-Gas-Market-Model.pdf). *Neural Networks*, 1.\n",
    "\n",
    "\n"
   ]
  },
  {
   "cell_type": "code",
   "execution_count": null,
   "metadata": {},
   "outputs": [],
   "source": []
  }
 ],
 "metadata": {
  "kernelspec": {
   "display_name": "Python 3.6 (wustl)",
   "language": "python",
   "name": "wustl"
  },
  "language_info": {
   "codemirror_mode": {
    "name": "ipython",
    "version": 3
   },
   "file_extension": ".py",
   "mimetype": "text/x-python",
   "name": "python",
   "nbconvert_exporter": "python",
   "pygments_lexer": "ipython3",
   "version": "3.6.7"
  }
 },
 "nbformat": 4,
 "nbformat_minor": 2
}
